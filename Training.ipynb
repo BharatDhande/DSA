{
  "nbformat": 4,
  "nbformat_minor": 0,
  "metadata": {
    "colab": {
      "provenance": [],
      "authorship_tag": "ABX9TyPevcBYfOdt2TKIXjLKgRpc",
      "include_colab_link": true
    },
    "kernelspec": {
      "name": "python3",
      "display_name": "Python 3"
    },
    "language_info": {
      "name": "python"
    }
  },
  "cells": [
    {
      "cell_type": "markdown",
      "metadata": {
        "id": "view-in-github",
        "colab_type": "text"
      },
      "source": [
        "<a href=\"https://colab.research.google.com/github/BharatDhande/DSA/blob/main/Training.ipynb\" target=\"_parent\"><img src=\"https://colab.research.google.com/assets/colab-badge.svg\" alt=\"Open In Colab\"/></a>"
      ]
    },
    {
      "cell_type": "code",
      "source": [
        "class Node:\n",
        "    def __init__(self, value):\n",
        "        self.value = value\n",
        "        self.next = None\n",
        "\n",
        "class LinkedList:\n",
        "    def __init__(self):\n",
        "        self.head = None\n",
        "        self.tail = None\n",
        "        self.length = 0\n",
        "\n",
        "    def append(self, value):\n",
        "        new_node = Node(value)\n",
        "        if self.head is None:\n",
        "            self.head = new_node\n",
        "            self.tail = new_node\n",
        "        else:\n",
        "            self.tail.next = new_node\n",
        "            self.tail = new_node\n",
        "        self.length += 1\n",
        "\n",
        "    def traverse(self):\n",
        "        current = self.head\n",
        "        while current:\n",
        "            print(current.value, end=\" -> \")\n",
        "            current = current.next\n",
        "        print(\"None\")\n",
        "\n",
        "    def insert(self, value, index):\n",
        "        if index < 0 or index > self.length:\n",
        "            print(\"Invalid index\")\n",
        "            return\n",
        "        if index == 0:\n",
        "            new_node = Node(value)\n",
        "            new_node.next = self.head\n",
        "            self.head = new_node\n",
        "            if self.length == 0:\n",
        "                self.tail = new_node\n",
        "            self.length += 1\n",
        "            return\n",
        "        count = 0\n",
        "        current = self.head\n",
        "        while count < index - 1:\n",
        "            current = current.next\n",
        "            count += 1\n",
        "        new_node = Node(value)\n",
        "        new_node.next = current.next\n",
        "        current.next = new_node\n",
        "        if index == self.length:\n",
        "            self.tail = new_node\n",
        "        self.length += 1\n",
        "\n",
        "# Example usage:\n",
        "new_linked_list = LinkedList()\n",
        "new_linked_list.append(10)\n",
        "new_linked_list.append(20)\n",
        "new_linked_list.append(30)\n",
        "print(\"Original linked list:\")\n",
        "new_linked_list.traverse()\n",
        "\n",
        "new_linked_list.insert(15, 1)  # Insert 15 at index 1\n",
        "print(\"\\nLinked list after inserting 15 at index 1:\")\n",
        "new_linked_list.traverse()\n",
        "\n",
        "new_linked_list.insert(5, 0)   # Insert 5 at the beginning\n",
        "print(\"\\nLinked list after inserting 5 at the beginning:\")\n",
        "new_linked_list.traverse()\n",
        "\n",
        "new_linked_list.insert(40, 4)  # Insert 40 at the end\n",
        "print(\"\\nLinked list after inserting 40 at the end:\")\n",
        "new_linked_list.traverse()\n"
      ],
      "metadata": {
        "colab": {
          "base_uri": "https://localhost:8080/"
        },
        "id": "hTR_52XGzwbl",
        "outputId": "fc0fbd12-3a94-47da-cd7a-c200b0a75186"
      },
      "execution_count": 10,
      "outputs": [
        {
          "output_type": "stream",
          "name": "stdout",
          "text": [
            "Original linked list:\n",
            "10 -> 20 -> 30 -> None\n",
            "\n",
            "Linked list after inserting 15 at index 1:\n",
            "10 -> 15 -> 20 -> 30 -> None\n",
            "\n",
            "Linked list after inserting 5 at the beginning:\n",
            "5 -> 10 -> 15 -> 20 -> 30 -> None\n",
            "\n",
            "Linked list after inserting 40 at the end:\n",
            "5 -> 10 -> 15 -> 20 -> 40 -> 30 -> None\n"
          ]
        }
      ]
    },
    {
      "cell_type": "code",
      "source": [],
      "metadata": {
        "id": "Zq1X_3wTX9nx"
      },
      "execution_count": null,
      "outputs": []
    }
  ]
}